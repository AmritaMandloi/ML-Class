{
 "cells": [
  {
   "cell_type": "markdown",
   "metadata": {},
   "source": [
    "## Task 1: "
   ]
  },
  {
   "cell_type": "markdown",
   "metadata": {},
   "source": [
    "# Solution 1.1:"
   ]
  },
  {
   "cell_type": "code",
   "execution_count": 79,
   "metadata": {},
   "outputs": [],
   "source": [
    "def myreduce(functionName, collectionParameter):\n",
    "    firstEntity = collectionParameter[0]\n",
    "    for entity in collectionParameter[1:]:\n",
    "        firstEntity = functionName(firstEntity, entity)\n",
    "    return firstEntity"
   ]
  },
  {
   "cell_type": "code",
   "execution_count": 80,
   "metadata": {},
   "outputs": [],
   "source": [
    "def sum(firstVariable, secondVariable):\n",
    "    return firstVariable + secondVariable"
   ]
  },
  {
   "cell_type": "code",
   "execution_count": 82,
   "metadata": {},
   "outputs": [
    {
     "data": {
      "text/plain": [
       "6"
      ]
     },
     "execution_count": 82,
     "metadata": {},
     "output_type": "execute_result"
    }
   ],
   "source": [
    "myreduce(sum, [1,2,3])"
   ]
  },
  {
   "cell_type": "markdown",
   "metadata": {},
   "source": [
    "# Solution 1.2:"
   ]
  },
  {
   "cell_type": "code",
   "execution_count": 83,
   "metadata": {},
   "outputs": [],
   "source": [
    "def myfilter(functionName, collectionParameter):\n",
    "    result = []\n",
    "    for entity in collectionParameter:\n",
    "        if functionName(entity):\n",
    "            result.append(entity)\n",
    "    print(result)"
   ]
  },
  {
   "cell_type": "code",
   "execution_count": 84,
   "metadata": {},
   "outputs": [],
   "source": [
    "def isTrueFunction(entity):\n",
    "    if (entity >= 0):\n",
    "        return True\n",
    "    else:\n",
    "        return False\n",
    "    "
   ]
  },
  {
   "cell_type": "code",
   "execution_count": 85,
   "metadata": {},
   "outputs": [
    {
     "name": "stdout",
     "output_type": "stream",
     "text": [
      "[1, 2, 0]\n"
     ]
    }
   ],
   "source": [
    "myfilter(isTrueFunction, [1,2,-1,-2,0])"
   ]
  },
  {
   "cell_type": "markdown",
   "metadata": {},
   "source": [
    "# Solution 2:"
   ]
  },
  {
   "cell_type": "code",
   "execution_count": 86,
   "metadata": {},
   "outputs": [
    {
     "name": "stdout",
     "output_type": "stream",
     "text": [
      "['A', 'C', 'A', 'D', 'G', 'I', 'L', 'D']\n"
     ]
    }
   ],
   "source": [
    "word = \"ACADGILD\"\n",
    "print(list(word))"
   ]
  },
  {
   "cell_type": "code",
   "execution_count": 87,
   "metadata": {},
   "outputs": [
    {
     "name": "stdout",
     "output_type": "stream",
     "text": [
      "['x', 'xx', 'xxx', 'xxxx', 'y', 'yy', 'yyy', 'yyyy', 'z', 'zz', 'zzz', 'zzzz']\n"
     ]
    }
   ],
   "source": [
    "words = list(\"xyz\")\n",
    "a = [index * i for index in words for i in range(1,5)]\n",
    "print(a)"
   ]
  },
  {
   "cell_type": "code",
   "execution_count": 88,
   "metadata": {},
   "outputs": [
    {
     "name": "stdout",
     "output_type": "stream",
     "text": [
      "['x', 'y', 'z', 'xx', 'yy', 'zz', 'xxx', 'yyy', 'zzz', 'xxxx', 'yyyy', 'zzzz']\n"
     ]
    }
   ],
   "source": [
    "words = list(\"xyz\")\n",
    "a = [index * i for i in range(1,5) for index in words]\n",
    "print(a)"
   ]
  },
  {
   "cell_type": "code",
   "execution_count": 91,
   "metadata": {},
   "outputs": [
    {
     "name": "stdout",
     "output_type": "stream",
     "text": [
      "[[2], [3], [4], [3], [4], [5], [4], [5], [6]]\n"
     ]
    }
   ],
   "source": [
    "numbers = [2,3,4]\n",
    "result = [[number+i] for number in numbers for i in range(3)]\n",
    "print(result)"
   ]
  },
  {
   "cell_type": "code",
   "execution_count": 92,
   "metadata": {},
   "outputs": [
    {
     "name": "stdout",
     "output_type": "stream",
     "text": [
      "[[2, 3, 4], [3, 4, 5], [4, 5, 6], [5, 6, 7]]\n"
     ]
    }
   ],
   "source": [
    "a = [[number+i for number in numbers] for i in range(4)]\n",
    "print(a)"
   ]
  },
  {
   "cell_type": "code",
   "execution_count": 93,
   "metadata": {},
   "outputs": [
    {
     "name": "stdout",
     "output_type": "stream",
     "text": [
      "[(1, 1), (2, 1), (3, 1), (1, 2), (2, 2), (3, 2), (1, 3), (2, 3), (3, 3)]\n"
     ]
    }
   ],
   "source": [
    "numbers = [1,2,3]\n",
    "result = [(index, number) for number in numbers for index in numbers]\n",
    "print(result)"
   ]
  },
  {
   "cell_type": "markdown",
   "metadata": {},
   "source": [
    "# Solution 3:"
   ]
  },
  {
   "cell_type": "code",
   "execution_count": 94,
   "metadata": {},
   "outputs": [
    {
     "name": "stdout",
     "output_type": "stream",
     "text": [
      "asdfghjkl\n"
     ]
    }
   ],
   "source": [
    "def longestWord():\n",
    "    longestWordLength = 0\n",
    "    longestWordString = \"\"\n",
    "    listOfWords = [\"a\",\"ab\",\"abc\",\"b\",\"qwerty\", \"a\",\"ab\", \"asdfghjkl\", \"abc\",\"b\"]\n",
    "    for word in listOfWords:\n",
    "        if len(word) > longestWordLength :\n",
    "            longestWordLength = len(word)\n",
    "            longestWordString = word\n",
    "    print(longestWordString)\n",
    "longestWord()     "
   ]
  },
  {
   "cell_type": "markdown",
   "metadata": {},
   "source": [
    "## Task 2:"
   ]
  },
  {
   "cell_type": "markdown",
   "metadata": {},
   "source": [
    "## Solution 1.1:"
   ]
  },
  {
   "cell_type": "code",
   "execution_count": 95,
   "metadata": {},
   "outputs": [
    {
     "name": "stdout",
     "output_type": "stream",
     "text": [
      "Please provide length of first side of a triangle1\n",
      "Please provide length of second side of a triangle2\n",
      "Please provide length of third side of a triangle4\n",
      "(1.5686119320691177e-16+2.5617376914898995j)\n"
     ]
    }
   ],
   "source": [
    "class ParentClass:\n",
    "    def getLengthOfSideOfTriangle(self):\n",
    "        values = [\"first\", \"second\", \"third\"]\n",
    "        sides = []\n",
    "        for index in values :\n",
    "            inputValue = input(\"Please provide length of {} side of a triangle\".format(index))\n",
    "            sides.append((inputValue))\n",
    "        return sides\n",
    "\n",
    "class ChildClass(ParentClass):\n",
    "    def getAreaOfTriangle(self, lengthOfSideOfTriangle):\n",
    "        a = int(lengthOfSideOfTriangle[0])\n",
    "        b = int(lengthOfSideOfTriangle[1])\n",
    "        c = int(lengthOfSideOfTriangle[2])\n",
    "        \n",
    "        s = (a + b + c)/2\n",
    "        \n",
    "        area = (s*(s-a)*(s-b)*(s-c)) ** 0.5\n",
    "        print(area)\n",
    "        \n",
    "childClass = ChildClass()\n",
    "lengthOfSideOfTriangle = childClass.getLengthOfSideOfTriangle()\n",
    "childClass.getAreaOfTriangle(lengthOfSideOfTriangle)"
   ]
  },
  {
   "cell_type": "markdown",
   "metadata": {},
   "source": [
    "## Solution 1.2 :"
   ]
  },
  {
   "cell_type": "code",
   "execution_count": 96,
   "metadata": {},
   "outputs": [
    {
     "name": "stdout",
     "output_type": "stream",
     "text": [
      "Please enter list of words by comma separated : asda, qweufweuyf, asd\n",
      "Please enter a number separated3\n",
      "['asda', 'qweufweuyf']\n"
     ]
    }
   ],
   "source": [
    "def filter_long_words(words, number) :\n",
    "    wordList= words.split(\",\")\n",
    "    result = [word.strip() for word in wordList if len(word.strip()) > int(number)]\n",
    "    print(result)\n",
    "    \n",
    "words = input(\"Please enter list of words by comma separated : \")\n",
    "\n",
    "number = input(\"Please enter a number separated\")\n",
    "filter_long_words(words, number)"
   ]
  },
  {
   "cell_type": "markdown",
   "metadata": {},
   "source": [
    "## Solution 2.1:"
   ]
  },
  {
   "cell_type": "code",
   "execution_count": 97,
   "metadata": {},
   "outputs": [
    {
     "name": "stdout",
     "output_type": "stream",
     "text": [
      "Please enter list of words by comma separated : asdsad, dfsf, asdafqweqwer\n",
      "[6, 4, 12]\n"
     ]
    }
   ],
   "source": [
    "def getLengthOfWord(words) :\n",
    "    wordList= words.split(\",\")\n",
    "    correctedWordList = []\n",
    "    for word in wordList :\n",
    "        correctedWordList.append(word.strip())\n",
    "    result = list(map(len, correctedWordList))\n",
    "    print(result)\n",
    "    \n",
    "words = input(\"Please enter list of words by comma separated : \")\n",
    "getLengthOfWord(words)"
   ]
  },
  {
   "cell_type": "markdown",
   "metadata": {},
   "source": [
    "## Solution 2.2:"
   ]
  },
  {
   "cell_type": "code",
   "execution_count": 98,
   "metadata": {},
   "outputs": [
    {
     "name": "stdout",
     "output_type": "stream",
     "text": [
      "a\n",
      "i\n",
      "e\n"
     ]
    }
   ],
   "source": [
    "def vowelCheck(inputString):\n",
    "    vowels = [\"a\", \"e\", \"i\", \"o\", \"u\"]\n",
    "    if (inputString in vowels) :\n",
    "        return True\n",
    "    else :\n",
    "        return False\n",
    "\n",
    "inputString = [\"a\", \"b\", \"c\", \"i\", \"d\", \"e\"]\n",
    "result = filter(vowelCheck, inputString)\n",
    "for s in result:\n",
    "    print(s)"
   ]
  }
 ],
 "metadata": {
  "kernelspec": {
   "display_name": "Python 3",
   "language": "python",
   "name": "python3"
  },
  "language_info": {
   "codemirror_mode": {
    "name": "ipython",
    "version": 3
   },
   "file_extension": ".py",
   "mimetype": "text/x-python",
   "name": "python",
   "nbconvert_exporter": "python",
   "pygments_lexer": "ipython3",
   "version": "3.7.3"
  }
 },
 "nbformat": 4,
 "nbformat_minor": 2
}
